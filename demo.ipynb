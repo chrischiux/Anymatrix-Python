{
 "cells": [
  {
   "cell_type": "code",
   "execution_count": null,
   "metadata": {},
   "outputs": [],
   "source": [
    "from anymatrix import Anymatrix\n",
    "\n",
    "am = Anymatrix()"
   ]
  },
  {
   "cell_type": "markdown",
   "metadata": {},
   "source": [
    "List all matrix IDs in the collection."
   ]
  },
  {
   "cell_type": "code",
   "execution_count": 2,
   "metadata": {},
   "outputs": [
    {
     "name": "stdout",
     "output_type": "stream",
     "text": [
      "Automatic anymatrix scanning done.\n"
     ]
    },
    {
     "data": {
      "text/plain": [
       "['core/beta',\n",
       " 'matlab/compan',\n",
       " 'matlab/hadamard',\n",
       " 'matlab/hankel',\n",
       " 'matlab/hilb',\n",
       " 'matlab/invhilb',\n",
       " 'matlab/magic',\n",
       " 'matlab/pascal',\n",
       " 'matlab/rosser',\n",
       " 'matlab/spiral',\n",
       " 'matlab/toeplitz',\n",
       " 'matlab/vander',\n",
       " 'matlab/wilkinson']"
      ]
     },
     "execution_count": 2,
     "metadata": {},
     "output_type": "execute_result"
    }
   ],
   "source": [
    "am.anymatrix(\"all\")"
   ]
  },
  {
   "cell_type": "markdown",
   "metadata": {},
   "source": [
    "List available groups"
   ]
  },
  {
   "cell_type": "code",
   "execution_count": 3,
   "metadata": {},
   "outputs": [
    {
     "data": {
      "text/plain": [
       "['core', 'matlab']"
      ]
     },
     "execution_count": 3,
     "metadata": {},
     "output_type": "execute_result"
    }
   ],
   "source": [
    "am.anymatrix(\"groups\")"
   ]
  },
  {
   "cell_type": "markdown",
   "metadata": {},
   "source": [
    "List the matrices in a particular group"
   ]
  },
  {
   "cell_type": "code",
   "execution_count": 4,
   "metadata": {},
   "outputs": [
    {
     "data": {
      "text/plain": [
       "['matlab/compan',\n",
       " 'matlab/hadamard',\n",
       " 'matlab/hankel',\n",
       " 'matlab/hilb',\n",
       " 'matlab/invhilb',\n",
       " 'matlab/magic',\n",
       " 'matlab/pascal',\n",
       " 'matlab/rosser',\n",
       " 'matlab/spiral',\n",
       " 'matlab/toeplitz',\n",
       " 'matlab/vander',\n",
       " 'matlab/wilkinson']"
      ]
     },
     "execution_count": 4,
     "metadata": {},
     "output_type": "execute_result"
    }
   ],
   "source": [
    "am.anymatrix('groups','matlab')"
   ]
  },
  {
   "cell_type": "markdown",
   "metadata": {},
   "source": [
    "Show help of the beta matrix in the core group"
   ]
  },
  {
   "cell_type": "code",
   "execution_count": 5,
   "metadata": {},
   "outputs": [
    {
     "name": "stdout",
     "output_type": "stream",
     "text": [
      "Help on function beta:\n",
      "\n",
      "beta(n)\n",
      "    BETA   Symmetric totally positive matrix of integers.\n",
      "    BETA(n) is an n-by-n symmetric totally positive matrix of integers.\n",
      "    It is also infinitely divisible.\n",
      "    [A,R] = BETA(n) returns both the matrix and its explicitly constructed\n",
      "    Cholesky factor R.\n",
      "    \n",
      "    Reference:\n",
      "    P. Grover, V. S. Panwar and S. Reddy, Positivity Properties of Some\n",
      "    Special Matrices, Linear Algebra Appl. 596, 203-215, 2020.\n",
      "\n"
     ]
    }
   ],
   "source": [
    "am.anymatrix('help','core/beta')"
   ]
  },
  {
   "cell_type": "markdown",
   "metadata": {},
   "source": [
    "Show the properties of the beta matrix"
   ]
  },
  {
   "cell_type": "code",
   "execution_count": 6,
   "metadata": {},
   "outputs": [
    {
     "data": {
      "text/plain": [
       "['symmetric',\n",
       " 'positive definite',\n",
       " 'integer',\n",
       " 'totally positive',\n",
       " 'infinitely divisible',\n",
       " 'built-in',\n",
       " 'real',\n",
       " 'scalable',\n",
       " 'square',\n",
       " 'positive',\n",
       " 'nonnegative',\n",
       " 'totally nonnegative']"
      ]
     },
     "execution_count": 6,
     "metadata": {},
     "output_type": "execute_result"
    }
   ],
   "source": [
    "am.anymatrix('properties','core/beta')"
   ]
  },
  {
   "cell_type": "markdown",
   "metadata": {},
   "source": [
    "Generate the 5-by-5 beta matrix"
   ]
  },
  {
   "cell_type": "code",
   "execution_count": 7,
   "metadata": {},
   "outputs": [
    {
     "data": {
      "text/plain": [
       "(array([[  1,   2,   3,   4,   5],\n",
       "        [  2,   6,  12,  20,  30],\n",
       "        [  3,  12,  30,  60, 105],\n",
       "        [  4,  20,  60, 140, 280],\n",
       "        [  5,  30, 105, 280, 630]]),\n",
       " array([[0.        , 0.        , 0.        , 0.        , 0.        ],\n",
       "        [0.        , 1.        , 2.        , 3.        , 4.        ],\n",
       "        [0.        , 0.        , 1.41421356, 4.24264069, 8.48528137],\n",
       "        [0.        , 0.        , 0.        , 1.73205081, 6.92820323],\n",
       "        [0.        , 0.        , 0.        , 0.        , 0.        ]]))"
      ]
     },
     "execution_count": 7,
     "metadata": {},
     "output_type": "execute_result"
    }
   ],
   "source": [
    "am.anymatrix('core/beta',5)"
   ]
  },
  {
   "cell_type": "markdown",
   "metadata": {},
   "source": [
    "List all matrices that have integer entries and are positive definite"
   ]
  },
  {
   "cell_type": "code",
   "execution_count": 8,
   "metadata": {},
   "outputs": [
    {
     "data": {
      "text/plain": [
       "[]"
      ]
     },
     "execution_count": 8,
     "metadata": {},
     "output_type": "execute_result"
    }
   ],
   "source": [
    "am.anymatrix('properties','integer and positive definite')"
   ]
  },
  {
   "cell_type": "markdown",
   "metadata": {},
   "source": [
    "# 5.1 Matrices"
   ]
  },
  {
   "cell_type": "code",
   "execution_count": 9,
   "metadata": {},
   "outputs": [
    {
     "name": "stdout",
     "output_type": "stream",
     "text": [
      "Help on function beta:\n",
      "\n",
      "beta(n)\n",
      "    BETA   Symmetric totally positive matrix of integers.\n",
      "    BETA(n) is an n-by-n symmetric totally positive matrix of integers.\n",
      "    It is also infinitely divisible.\n",
      "    [A,R] = BETA(n) returns both the matrix and its explicitly constructed\n",
      "    Cholesky factor R.\n",
      "    \n",
      "    Reference:\n",
      "    P. Grover, V. S. Panwar and S. Reddy, Positivity Properties of Some\n",
      "    Special Matrices, Linear Algebra Appl. 596, 203-215, 2020.\n",
      "\n"
     ]
    }
   ],
   "source": [
    "am.anymatrix(\"core/beta\", \"help\")"
   ]
  },
  {
   "cell_type": "code",
   "execution_count": 5,
   "metadata": {},
   "outputs": [
    {
     "data": {
      "text/plain": [
       "['banded',\n",
       " 'bidiagonal',\n",
       " 'binary',\n",
       " 'block Toeplitz',\n",
       " 'built-in',\n",
       " 'circulant',\n",
       " 'complex',\n",
       " 'correlation',\n",
       " 'defective',\n",
       " 'diagonally dominant',\n",
       " 'eigenvalues',\n",
       " 'fixed size',\n",
       " 'hankel',\n",
       " 'hermitian',\n",
       " 'hessenberg',\n",
       " 'idempotent',\n",
       " 'indefinite',\n",
       " 'ill conditioned',\n",
       " 'infinitely divisible',\n",
       " 'integer',\n",
       " 'inverse',\n",
       " 'involutory',\n",
       " 'M-matrix',\n",
       " 'nilpotent',\n",
       " 'nonnegative',\n",
       " 'normal',\n",
       " 'orthogonal',\n",
       " 'parameter-dependent',\n",
       " 'permutation',\n",
       " 'positive',\n",
       " 'positive definite',\n",
       " 'pseudo-orthogonal',\n",
       " 'random',\n",
       " 'rank deficient',\n",
       " 'real',\n",
       " 'rectangular',\n",
       " 'scalable',\n",
       " 'singular values',\n",
       " 'skew-hermitian',\n",
       " 'skew-symmetric',\n",
       " 'sparse',\n",
       " 'square',\n",
       " 'stochastic',\n",
       " 'symmetric',\n",
       " 'toeplitz',\n",
       " 'totally nonnegative',\n",
       " 'totally positive',\n",
       " 'triangular',\n",
       " 'tridiagonal',\n",
       " 'unimodular',\n",
       " 'unitary']"
      ]
     },
     "execution_count": 5,
     "metadata": {},
     "output_type": "execute_result"
    }
   ],
   "source": [
    "am.anymatrix('properties')"
   ]
  },
  {
   "cell_type": "code",
   "execution_count": 11,
   "metadata": {},
   "outputs": [
    {
     "data": {
      "text/plain": [
       "['symmetric',\n",
       " 'positive definite',\n",
       " 'integer',\n",
       " 'totally positive',\n",
       " 'infinitely divisible',\n",
       " 'built-in',\n",
       " 'real',\n",
       " 'scalable',\n",
       " 'square',\n",
       " 'positive',\n",
       " 'nonnegative',\n",
       " 'totally nonnegative']"
      ]
     },
     "execution_count": 11,
     "metadata": {},
     "output_type": "execute_result"
    }
   ],
   "source": [
    "am.anymatrix(\"core/beta\",'properties')"
   ]
  },
  {
   "cell_type": "code",
   "execution_count": 12,
   "metadata": {},
   "outputs": [
    {
     "data": {
      "text/plain": [
       "['core/beta',\n",
       " 'matlab/compan',\n",
       " 'matlab/hadamard',\n",
       " 'matlab/hankel',\n",
       " 'matlab/hilb',\n",
       " 'matlab/invhilb',\n",
       " 'matlab/magic',\n",
       " 'matlab/pascal',\n",
       " 'matlab/rosser',\n",
       " 'matlab/spiral',\n",
       " 'matlab/toeplitz',\n",
       " 'matlab/vander',\n",
       " 'matlab/wilkinson']"
      ]
     },
     "execution_count": 12,
     "metadata": {},
     "output_type": "execute_result"
    }
   ],
   "source": [
    "am.anymatrix('properties', 'built-in')"
   ]
  },
  {
   "cell_type": "code",
   "execution_count": 13,
   "metadata": {},
   "outputs": [
    {
     "name": "stdout",
     "output_type": "stream",
     "text": [
      "Help on function beta:\n",
      "\n",
      "beta(n)\n",
      "    BETA   Symmetric totally positive matrix of integers.\n",
      "    BETA(n) is an n-by-n symmetric totally positive matrix of integers.\n",
      "    It is also infinitely divisible.\n",
      "    [A,R] = BETA(n) returns both the matrix and its explicitly constructed\n",
      "    Cholesky factor R.\n",
      "    \n",
      "    Reference:\n",
      "    P. Grover, V. S. Panwar and S. Reddy, Positivity Properties of Some\n",
      "    Special Matrices, Linear Algebra Appl. 596, 203-215, 2020.\n",
      "\n"
     ]
    }
   ],
   "source": [
    "am.anymatrix('help',\"core/beta\")"
   ]
  },
  {
   "cell_type": "code",
   "execution_count": 14,
   "metadata": {},
   "outputs": [
    {
     "data": {
      "text/plain": [
       "['core/beta', 'matlab/pascal']"
      ]
     },
     "execution_count": 14,
     "metadata": {},
     "output_type": "execute_result"
    }
   ],
   "source": [
    "am.anymatrix('lookfor',\"also\")"
   ]
  },
  {
   "cell_type": "markdown",
   "metadata": {},
   "source": [
    "# 5.2 Short Forms of Commands"
   ]
  },
  {
   "cell_type": "code",
   "execution_count": 15,
   "metadata": {},
   "outputs": [
    {
     "data": {
      "text/plain": [
       "['symmetric',\n",
       " 'positive definite',\n",
       " 'integer',\n",
       " 'totally positive',\n",
       " 'infinitely divisible',\n",
       " 'built-in',\n",
       " 'real',\n",
       " 'scalable',\n",
       " 'square',\n",
       " 'positive',\n",
       " 'nonnegative',\n",
       " 'totally nonnegative']"
      ]
     },
     "execution_count": 15,
     "metadata": {},
     "output_type": "execute_result"
    }
   ],
   "source": [
    "am.anymatrix('p',\"core/beta\")\n",
    "# print(\"properties\".startswith(\"p\"))"
   ]
  },
  {
   "cell_type": "markdown",
   "metadata": {},
   "source": [
    "# 5.3 Parameter Passing"
   ]
  },
  {
   "cell_type": "code",
   "execution_count": 17,
   "metadata": {},
   "outputs": [
    {
     "name": "stdout",
     "output_type": "stream",
     "text": [
      "Help on function beta:\n",
      "\n",
      "beta(n)\n",
      "    BETA   Symmetric totally positive matrix of integers.\n",
      "    BETA(n) is an n-by-n symmetric totally positive matrix of integers.\n",
      "    It is also infinitely divisible.\n",
      "    [A,R] = BETA(n) returns both the matrix and its explicitly constructed\n",
      "    Cholesky factor R.\n",
      "    \n",
      "    Reference:\n",
      "    P. Grover, V. S. Panwar and S. Reddy, Positivity Properties of Some\n",
      "    Special Matrices, Linear Algebra Appl. 596, 203-215, 2020.\n",
      "\n"
     ]
    }
   ],
   "source": [
    "am.anymatrix('help','core/beta')"
   ]
  },
  {
   "cell_type": "code",
   "execution_count": 18,
   "metadata": {},
   "outputs": [
    {
     "name": "stdout",
     "output_type": "stream",
     "text": [
      "Help on function beta:\n",
      "\n",
      "beta(n)\n",
      "    BETA   Symmetric totally positive matrix of integers.\n",
      "    BETA(n) is an n-by-n symmetric totally positive matrix of integers.\n",
      "    It is also infinitely divisible.\n",
      "    [A,R] = BETA(n) returns both the matrix and its explicitly constructed\n",
      "    Cholesky factor R.\n",
      "    \n",
      "    Reference:\n",
      "    P. Grover, V. S. Panwar and S. Reddy, Positivity Properties of Some\n",
      "    Special Matrices, Linear Algebra Appl. 596, 203-215, 2020.\n",
      "\n"
     ]
    }
   ],
   "source": [
    "am.anymatrix('core/beta','help')"
   ]
  },
  {
   "cell_type": "markdown",
   "metadata": {},
   "source": [
    "# 5.4 Groups"
   ]
  },
  {
   "cell_type": "code",
   "execution_count": 20,
   "metadata": {},
   "outputs": [
    {
     "data": {
      "text/plain": [
       "['core', 'matlab']"
      ]
     },
     "execution_count": 20,
     "metadata": {},
     "output_type": "execute_result"
    }
   ],
   "source": [
    "am.anymatrix('groups')"
   ]
  },
  {
   "cell_type": "code",
   "execution_count": 26,
   "metadata": {},
   "outputs": [
    {
     "name": "stdout",
     "output_type": "stream",
     "text": [
      "# CORE group\n",
      "#\n",
      "#   beta    - Symmetric totally positive matrix of integers.\n"
     ]
    }
   ],
   "source": [
    "am.anymatrix('contents','core')"
   ]
  },
  {
   "cell_type": "code",
   "execution_count": 27,
   "metadata": {},
   "outputs": [
    {
     "data": {
      "text/plain": [
       "['matlab/compan',\n",
       " 'matlab/hadamard',\n",
       " 'matlab/hankel',\n",
       " 'matlab/hilb',\n",
       " 'matlab/invhilb',\n",
       " 'matlab/magic',\n",
       " 'matlab/pascal',\n",
       " 'matlab/rosser',\n",
       " 'matlab/spiral',\n",
       " 'matlab/toeplitz',\n",
       " 'matlab/vander',\n",
       " 'matlab/wilkinson']"
      ]
     },
     "execution_count": 27,
     "metadata": {},
     "output_type": "execute_result"
    }
   ],
   "source": [
    "am.anymatrix('groups','matlab')"
   ]
  },
  {
   "cell_type": "markdown",
   "metadata": {},
   "source": [
    "# 5.5 Sets"
   ]
  },
  {
   "cell_type": "markdown",
   "metadata": {},
   "source": [
    "Return the available sets"
   ]
  },
  {
   "cell_type": "code",
   "execution_count": 28,
   "metadata": {},
   "outputs": [
    {
     "data": {
      "text/plain": [
       "['my_set']"
      ]
     },
     "execution_count": 28,
     "metadata": {},
     "output_type": "execute_result"
    }
   ],
   "source": [
    "am.anymatrix('sets')"
   ]
  },
  {
   "cell_type": "markdown",
   "metadata": {},
   "source": [
    "return matrix IDs in M and first N matrices out1 to outN in a specified set with name set_name."
   ]
  },
  {
   "cell_type": "code",
   "execution_count": 31,
   "metadata": {},
   "outputs": [
    {
     "data": {
      "text/plain": [
       "[[['core/beta', '4']],\n",
       " (array([[  1,   2,   3,   4],\n",
       "         [  2,   6,  12,  20],\n",
       "         [  3,  12,  30,  60],\n",
       "         [  4,  20,  60, 140]]),\n",
       "  array([[0.        , 0.        , 0.        , 0.        ],\n",
       "         [0.        , 1.        , 2.        , 3.        ],\n",
       "         [0.        , 0.        , 1.41421356, 4.24264069],\n",
       "         [0.        , 0.        , 0.        , 0.        ]]))]"
      ]
     },
     "execution_count": 31,
     "metadata": {},
     "output_type": "execute_result"
    }
   ],
   "source": [
    "am.anymatrix('sets',\"my_set\")"
   ]
  },
  {
   "cell_type": "markdown",
   "metadata": {},
   "source": [
    "# 5.6 General"
   ]
  },
  {
   "cell_type": "markdown",
   "metadata": {},
   "source": [
    "Force a scan of the file system\n",
    "(necessary after changes have been made to any functions that are part of Anymatrix)"
   ]
  },
  {
   "cell_type": "code",
   "execution_count": 32,
   "metadata": {},
   "outputs": [
    {
     "name": "stdout",
     "output_type": "stream",
     "text": [
      "Anymatrix scanning done.\n"
     ]
    }
   ],
   "source": [
    "am.anymatrix('scan')"
   ]
  }
 ],
 "metadata": {
  "kernelspec": {
   "display_name": "Python 3",
   "language": "python",
   "name": "python3"
  },
  "language_info": {
   "codemirror_mode": {
    "name": "ipython",
    "version": 3
   },
   "file_extension": ".py",
   "mimetype": "text/x-python",
   "name": "python",
   "nbconvert_exporter": "python",
   "pygments_lexer": "ipython3",
   "version": "3.12.3"
  }
 },
 "nbformat": 4,
 "nbformat_minor": 2
}
